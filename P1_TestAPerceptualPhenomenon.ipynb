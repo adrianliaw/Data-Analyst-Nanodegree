{
 "cells": [
  {
   "cell_type": "markdown",
   "metadata": {},
   "source": [
    "# Test a Perceptual Phenomenon: Stroop task\n",
    "<small><em>This work is done by Adrian Liaw</em></small>"
   ]
  },
  {
   "cell_type": "markdown",
   "metadata": {},
   "source": [
    "In a Stroop task, participants are presented with a list of words, with each word displayed in a color of ink. The participant’s task is to say out loud the color of the ink in which the word is printed. The task has two conditions: a congruent words condition, and an incongruent words condition. In the congruent words condition, the words being displayed are color words whose names match the colors in which they are printed: for example <span style=\"color: red\">RED</span>, <span style=\"color: blue\">BLUE</span>. In the incongruent words condition, the words displayed are color words whose names do not match the colors in which they are printed: for example <span style=\"color: #6AA84F\">PURPLE</span>, <span style=\"color: #674EA7\">ORANGE</span>. In each case, we measure the time it takes to name the ink colors in equally-sized lists. Each participant will go through and record a time from each condition."
   ]
  },
  {
   "cell_type": "markdown",
   "metadata": {},
   "source": [
    "#### 1. What is our independent variable? What is our dependent variable?\n",
    "Independent variable: condition of the task  \n",
    "Dependent variable: time to complete the task"
   ]
  },
  {
   "cell_type": "markdown",
   "metadata": {},
   "source": [
    "#### 2. What is an appropriate set of hypotheses for this task? What kind of statistical test do you expect to perform? Justify your choices.\n",
    "In this case, we want to see if it takes longer to complete the task in the incongruent words condition.  \n",
    "\n",
    "\n",
    "Null hypothesis: It takes the same time to complete the task in both conditions.  \n",
    "Alternative hypothesis: It takes longer to complete the task in the incongruent words condition.  \n",
    "### $H_0 : \\mu_{cong.} = \\mu_{incong.}$  \n",
    "### $H_A : \\mu_{cong.} \\lt \\mu_{incong.}$  \n",
    "(Where $\\mu_{cong.}$ stands for the population mean of the results in congruent words condition, $\\mu_{incong.}$ for incongruent words condition)\n",
    "\n",
    "We don't know the population parameters, so I choose to use a _t_-test to infer the population.  \n",
    "This data set is a within-subject design, which two samples are paired (two conditions), so I'll perform a paired samples _t_-test."
   ]
  },
  {
   "cell_type": "markdown",
   "metadata": {},
   "source": [
    "#### 3. Report some descriptive statistics regarding this dataset. Include at least one measure of central tendency and at least one measure of variability.\n",
    "|                         |  $M$  | $SD$ |\n",
    "| ----------------------- | ----- | ---- |\n",
    "|     congruent words     | 14.05 | 3.56 |\n",
    "|    incongruent words    | 22.02 | 4.80 |\n",
    "| diff. (incong. - cong.) |  7.96 | 4.86 |"
   ]
  },
  {
   "cell_type": "markdown",
   "metadata": {},
   "source": [
    "#### 4. Provide one or two visualizations that show the distribution of the sample data. Write one or two sentences noting what you observe about the plot or plots.\n",
    "![](http://i.imgur.com/Dy7sc8C.png)\n",
    "We can see the distribution of the incongruent one is more to the right than the congruent one."
   ]
  },
  {
   "cell_type": "markdown",
   "metadata": {},
   "source": [
    "#### 5. Now, perform the statistical test and report your results. What is your confidence level and your critical statistic value? Do you reject the null hypothesis or fail to reject it? Come to a conclusion in terms of the experiment task. Did the results match up with your expectations?\n",
    "- $\\alpha = 0.01, t_{critical} = 2.500$\n",
    "- $t(23) = 8.02, p < 0.0001, $ one-tailed  \n",
    "- Confidence interval on the mean difference; $99\\%\\ CI = (5.18, 10.75)$\n",
    "- $p < \\alpha$; Reject the null.\n",
    "\n",
    "The result says, it takes significantly longer time to complete the task in the incongruent condition than in the congruent condition, and that's what we're expecting.  "
   ]
  },
  {
   "cell_type": "markdown",
   "metadata": {},
   "source": [
    "---\n",
    "<small>\n",
    "\n",
    "Resources referred/used:\n",
    "- http://stackoverflow.com/questions/6871201/plot-two-histograms-at-the-same-time-with-matplotlib\n",
    "- http://stackoverflow.com/questions/23617129/matplotlib-how-to-make-two-histograms-have-the-same-bin-width\n",
    "- http://www.bryanburnham.net/wp-content/uploads/2013/07/Reporting-Statistics-in-APA-Format.pdf\n",
    "- http://support.minitab.com/en-us/minitab/17/topic-library/basic-statistics-and-graphs/hypothesis-tests/basics/null-and-alternative-hypotheses/\n",
    "- http://support.minitab.com/en-us/minitab/17/topic-library/basic-statistics-and-graphs/hypothesis-tests/tests-of-means/types-of-t-tests/"
   ]
  }
 ],
 "metadata": {
  "kernelspec": {
   "display_name": "Python 3",
   "language": "python",
   "name": "python3"
  },
  "language_info": {
   "codemirror_mode": {
    "name": "ipython",
    "version": 3
   },
   "file_extension": ".py",
   "mimetype": "text/x-python",
   "name": "python",
   "nbconvert_exporter": "python",
   "pygments_lexer": "ipython3",
   "version": "3.5.1"
  }
 },
 "nbformat": 4,
 "nbformat_minor": 0
}
